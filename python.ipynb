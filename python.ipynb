{
 "cells": [
  {
   "cell_type": "code",
   "execution_count": 1,
   "metadata": {},
   "outputs": [
    {
     "name": "stdout",
     "output_type": "stream",
     "text": [
      "['auto.txt']\n"
     ]
    }
   ],
   "source": [
    "import win32print   \n",
    "import win32api\n",
    "import os\n",
    "\n",
    "\n",
    "lista_impressoras = win32print.EnumPrinters(2)\n",
    "impressora = lista_impressoras[4]\n",
    "win32print.SetDefaultPrinter(impressora[2])\n",
    "\n",
    "\n",
    "\n",
    "    #Mandar imprimir\n",
    "Caminho = r\"C:\\Users\\danio\\Desktop\\print\"\n",
    "lista_arquivos = os.listdir(Caminho)\n",
    "print(lista_arquivos)\n",
    "\n",
    "for arquivo in lista_arquivos:\n",
    "    win32api.ShellExecute(0, \"print\", arquivo, None, Caminho, 0 )\n",
    "\n"
   ]
  }
 ],
 "metadata": {
  "kernelspec": {
   "display_name": "Python 3",
   "language": "python",
   "name": "python3"
  },
  "language_info": {
   "codemirror_mode": {
    "name": "ipython",
    "version": 3
   },
   "file_extension": ".py",
   "mimetype": "text/x-python",
   "name": "python",
   "nbconvert_exporter": "python",
   "pygments_lexer": "ipython3",
   "version": "3.11.2"
  },
  "orig_nbformat": 4
 },
 "nbformat": 4,
 "nbformat_minor": 2
}
